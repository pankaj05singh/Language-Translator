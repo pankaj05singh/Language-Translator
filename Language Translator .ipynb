{
 "cells": [
  {
   "cell_type": "code",
   "execution_count": null,
   "id": "c009fc54-ec19-4e32-847a-670b693978d4",
   "metadata": {},
   "outputs": [],
   "source": [
    "from googletrans import Translator\n",
    "\n",
    "hindi_text = 'जिस चीज को आप चाहते हैं, उसमें असफल होना, जिस चीज को आप नहीं चाहते उसमें सफल होने से बेहतर है।'\n",
    "\n",
    "# Example Hindi text\n",
    "indian_languages = {\n",
    "    'en':'English',\n",
    "    'es':'Spanish',\n",
    "    'fr':'French',\n",
    "    'te': 'Telugu',\n",
    "    'ta': 'Tamil',\n",
    "    'kn': 'Kannada',\n",
    "    'mr': 'Marathi',\n",
    "    'gu': 'Gujarati',\n",
    "    'pa': 'Punjabi',\n",
    "    'bn': 'Bengali',\n",
    "}\n",
    "\n",
    "translator = Translator()\n",
    "translations = {}\n",
    "\n",
    "for lang_code, lang_name in indian_languages.items():\n",
    "    if lang_code != 'hi':\n",
    "        translation = translator.translate(hindi_text, src='hi', dest=lang_code)\n",
    "        translations[lang_name] = translation.text\n",
    "\n",
    "for i,j in translations.items():\n",
    "    print(i,\": \",j)"
   ]
  },
  {
   "cell_type": "code",
   "execution_count": null,
   "id": "94548fda-54e0-400a-8a28-94034f64de94",
   "metadata": {},
   "outputs": [],
   "source": []
  },
  {
   "cell_type": "code",
   "execution_count": null,
   "id": "bee70daa-b9e5-46c4-a8b6-18a2606c6c9a",
   "metadata": {},
   "outputs": [],
   "source": []
  },
  {
   "cell_type": "code",
   "execution_count": null,
   "id": "c36004b8-fa42-40a6-a482-909e3016ad4a",
   "metadata": {},
   "outputs": [],
   "source": []
  },
  {
   "cell_type": "code",
   "execution_count": null,
   "id": "48cef4cc-a653-4b64-8585-687726e60ab4",
   "metadata": {},
   "outputs": [],
   "source": []
  },
  {
   "cell_type": "code",
   "execution_count": null,
   "id": "e55b6de3-2f57-4d63-9d54-4e264bc07e7f",
   "metadata": {},
   "outputs": [],
   "source": []
  },
  {
   "cell_type": "code",
   "execution_count": null,
   "id": "d1a8bf67-8adb-4a84-8015-6b64f3928460",
   "metadata": {},
   "outputs": [],
   "source": []
  },
  {
   "cell_type": "code",
   "execution_count": null,
   "id": "341a8c50-8547-400a-9f46-8ad56d57b084",
   "metadata": {},
   "outputs": [],
   "source": []
  },
  {
   "cell_type": "code",
   "execution_count": null,
   "id": "4aa0210c-7bc7-4def-9cf6-247f5a28d786",
   "metadata": {},
   "outputs": [],
   "source": []
  },
  {
   "cell_type": "code",
   "execution_count": null,
   "id": "e4dd3629-5f14-46c4-9934-d9ffeec6a4f0",
   "metadata": {},
   "outputs": [],
   "source": []
  },
  {
   "cell_type": "code",
   "execution_count": null,
   "id": "ba536b1a-57a2-4807-b577-26722efe4285",
   "metadata": {},
   "outputs": [],
   "source": []
  }
 ],
 "metadata": {
  "kernelspec": {
   "display_name": "Python 3 (ipykernel)",
   "language": "python",
   "name": "python3"
  },
  "language_info": {
   "codemirror_mode": {
    "name": "ipython",
    "version": 3
   },
   "file_extension": ".py",
   "mimetype": "text/x-python",
   "name": "python",
   "nbconvert_exporter": "python",
   "pygments_lexer": "ipython3",
   "version": "3.12.0"
  }
 },
 "nbformat": 4,
 "nbformat_minor": 5
}
