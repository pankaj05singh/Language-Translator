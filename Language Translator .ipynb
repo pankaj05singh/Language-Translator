{
 "cells": [
  {
   "cell_type": "code",
   "execution_count": 1,
   "id": "c009fc54-ec19-4e32-847a-670b693978d4",
   "metadata": {},
   "outputs": [
    {
     "name": "stdout",
     "output_type": "stream",
     "text": [
      "English :  It is better to fail in what you want, it is better than being successful in what you do not want.~ George Burns\n",
      "Spanish :  Es mejor fallar en lo que quieres, es mejor que tener éxito en lo que no quieres.~ George Burns\n",
      "French :  Il vaut mieux échouer dans ce que vous voulez, c'est mieux que de réussir dans ce que vous ne voulez pas.~ George Burns\n",
      "Telugu :  మీకు కావలసినదానిలో విఫలం కావడం మంచిది, మీరు కోరుకోని వాటిలో విజయవంతం కావడం కంటే మంచిది.~ జార్జ్ బర్న్స్\n",
      "Tamil :  நீங்கள் விரும்புவதில் தோல்வியடைவது நல்லது, நீங்கள் விரும்பாதவற்றில் வெற்றிகரமாக இருப்பதை விட இது நல்லது.~ ஜார்ஜ் பர்ன்ஸ்\n",
      "Kannada :  ನಿಮಗೆ ಬೇಕಾದುದರಲ್ಲಿ ವಿಫಲವಾಗುವುದು ಉತ್ತಮ, ನೀವು ಬಯಸದ ವಿಷಯದಲ್ಲಿ ಯಶಸ್ವಿಯಾಗುವುದಕ್ಕಿಂತ ಇದು ಉತ್ತಮವಾಗಿದೆ.~ ಜಾರ್ಜ್ ಬರ್ನ್ಸ್\n",
      "Marathi :  आपल्याला पाहिजे असलेल्या गोष्टींमध्ये अपयशी ठरणे चांगले आहे, आपल्याला पाहिजे असलेल्या गोष्टींमध्ये यशस्वी होण्यापेक्षा हे चांगले आहे.~ जॉर्ज बर्न्स\n",
      "Gujarati :  તમે જે ઇચ્છો છો તેમાં નિષ્ફળ થવું વધુ સારું છે, તમે જે ઇચ્છતા નથી તે સફળ થવું વધુ સારું છે.~ જ્યોર્જ બર્ન્સ\n",
      "Punjabi :  ਜੋ ਤੁਸੀਂ ਚਾਹੁੰਦੇ ਹੋ ਉਸ ਵਿੱਚ ਅਸਫਲ ਹੋਣਾ ਬਿਹਤਰ ਹੈ, ਇਹ ਉਸ ਵਿੱਚ ਸਫਲ ਹੋਣ ਨਾਲੋਂ ਚੰਗਾ ਹੈ ਜੋ ਤੁਸੀਂ ਨਹੀਂ ਚਾਹੁੰਦੇ.~ ਜਾਰਜ ਬਰਨ\n",
      "Bengali :  আপনি যা চান তাতে ব্যর্থ হওয়া ভাল, আপনি যা চান না তাতে সফল হওয়ার চেয়ে ভাল।~ জর্জ বার্নস\n"
     ]
    }
   ],
   "source": [
    "from googletrans import Translator\n",
    "\n",
    "hindi_text = 'जिस चीज को आप चाहते हैं, उसमें असफल होना, जिस चीज को आप नहीं चाहते उसमें सफल होने से बेहतर है। ~ जॉर्ज बर्न्स'\n",
    "\n",
    "# Example Hindi text\n",
    "indian_languages = {\n",
    "    'en':'English',\n",
    "    'es':'Spanish',\n",
    "    'fr':'French',\n",
    "    'te': 'Telugu',\n",
    "    'ta': 'Tamil',\n",
    "    'kn': 'Kannada',\n",
    "    'mr': 'Marathi',\n",
    "    'gu': 'Gujarati',\n",
    "    'pa': 'Punjabi',\n",
    "    'bn': 'Bengali',\n",
    "}\n",
    "\n",
    "translator = Translator()\n",
    "translations = {}\n",
    "\n",
    "for lang_code, lang_name in indian_languages.items():\n",
    "    if lang_code != 'hi':\n",
    "        translation = translator.translate(hindi_text, src='hi', dest=lang_code)\n",
    "        translations[lang_name] = translation.text\n",
    "\n",
    "for i,j in translations.items():\n",
    "    print(i,\": \",j)"
   ]
  },
  {
   "cell_type": "code",
   "execution_count": null,
   "id": "94548fda-54e0-400a-8a28-94034f64de94",
   "metadata": {},
   "outputs": [],
   "source": []
  },
  {
   "cell_type": "code",
   "execution_count": null,
   "id": "bee70daa-b9e5-46c4-a8b6-18a2606c6c9a",
   "metadata": {},
   "outputs": [],
   "source": []
  },
  {
   "cell_type": "code",
   "execution_count": null,
   "id": "c36004b8-fa42-40a6-a482-909e3016ad4a",
   "metadata": {},
   "outputs": [],
   "source": []
  },
  {
   "cell_type": "code",
   "execution_count": null,
   "id": "48cef4cc-a653-4b64-8585-687726e60ab4",
   "metadata": {},
   "outputs": [],
   "source": []
  },
  {
   "cell_type": "code",
   "execution_count": null,
   "id": "e55b6de3-2f57-4d63-9d54-4e264bc07e7f",
   "metadata": {},
   "outputs": [],
   "source": []
  },
  {
   "cell_type": "code",
   "execution_count": null,
   "id": "d1a8bf67-8adb-4a84-8015-6b64f3928460",
   "metadata": {},
   "outputs": [],
   "source": []
  },
  {
   "cell_type": "code",
   "execution_count": null,
   "id": "341a8c50-8547-400a-9f46-8ad56d57b084",
   "metadata": {},
   "outputs": [],
   "source": []
  },
  {
   "cell_type": "code",
   "execution_count": null,
   "id": "4aa0210c-7bc7-4def-9cf6-247f5a28d786",
   "metadata": {},
   "outputs": [],
   "source": []
  },
  {
   "cell_type": "code",
   "execution_count": null,
   "id": "e4dd3629-5f14-46c4-9934-d9ffeec6a4f0",
   "metadata": {},
   "outputs": [],
   "source": []
  },
  {
   "cell_type": "code",
   "execution_count": null,
   "id": "ba536b1a-57a2-4807-b577-26722efe4285",
   "metadata": {},
   "outputs": [],
   "source": []
  }
 ],
 "metadata": {
  "kernelspec": {
   "display_name": "Python 3 (ipykernel)",
   "language": "python",
   "name": "python3"
  },
  "language_info": {
   "codemirror_mode": {
    "name": "ipython",
    "version": 3
   },
   "file_extension": ".py",
   "mimetype": "text/x-python",
   "name": "python",
   "nbconvert_exporter": "python",
   "pygments_lexer": "ipython3",
   "version": "3.12.0"
  }
 },
 "nbformat": 4,
 "nbformat_minor": 5
}
